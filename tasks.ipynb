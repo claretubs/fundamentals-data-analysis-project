{
 "cells": [
  {
   "attachments": {},
   "cell_type": "markdown",
   "metadata": {},
   "source": [
    "# Fundamentals of Data Analysis Project\n",
    "**Clare Tubridy**\n",
    "***"
   ]
  },
  {
   "cell_type": "code",
   "execution_count": 1,
   "metadata": {},
   "outputs": [],
   "source": [
    "# Imports for all the tasks.\n",
    "import seaborn as sns\n",
    "import matplotlib.pyplot as plt\n",
    "import numpy as np\n",
    "import pandas as pd "
   ]
  },
  {
   "attachments": {},
   "cell_type": "markdown",
   "metadata": {},
   "source": [
    "## Task 1 - Collatz Conjecture\n",
    "> The Collatz conjecture is a famous unsolved problem in mathematics. The problem is to prove that if you start with any positive\n",
    "integer x and repeatedly apply the function f(x) below, you always get stuck in the repeating sequence 1, 4, 2, 1, 4, 2, . . .\n",
    ">\n",
    ">$ f(x) = x ÷ 2 $ if *x* is even <br>\n",
    ">$ f(x) = 3*(x) + 1 $ if *x* is odd\n",
    ">\n",
    "> Your task is to verify, using Python, that the conjecture is true for\n",
    "the first 10,000 positive integers."
   ]
  },
  {
   "cell_type": "code",
   "execution_count": 2,
   "metadata": {},
   "outputs": [],
   "source": [
    "def f(x):\n",
    "    # If x is even divide by two:\n",
    "    if x % 2 == 0:\n",
    "        return x // 2\n",
    "    else:\n",
    "        return (3 * x) + 1"
   ]
  },
  {
   "cell_type": "code",
   "execution_count": 3,
   "metadata": {},
   "outputs": [],
   "source": [
    "def collatz(x):\n",
    "    print(f'Testing Collatz with intial value {x}')\n",
    "    while x !=1:\n",
    "        x = f(x)\n",
    "        print(x, end=' ')"
   ]
  },
  {
   "cell_type": "code",
   "execution_count": 4,
   "metadata": {},
   "outputs": [
    {
     "name": "stdout",
     "output_type": "stream",
     "text": [
      "Testing Collatz with intial value 5\n",
      "16 8 4 2 1 "
     ]
    }
   ],
   "source": [
    "collatz(5)"
   ]
  },
  {
   "cell_type": "markdown",
   "metadata": {},
   "source": [
    "***\n",
    "## Task 2 - Penguin Dataset\n",
    "> Give an overview of the famous penguins data set, explaining\n",
    "the types of variables it contains. Suggest the types of variables\n",
    "that should be used to model them in Python, explaining your\n",
    "rationale."
   ]
  },
  {
   "cell_type": "markdown",
   "metadata": {},
   "source": [
    "### Overview of the Dataset\n",
    "The \"Penguins\" dataset is a popular and commonly used dataset in the field of data science and machine learning. The dataset contains information about various characteristics of different penguin species. It is great introduction dataset for data exploration and visualization. It is often used for tasks such as classifcation, regression, and exploratory data analysis. This section will provide an overview of the variables it contains and the suggested types of variables to model them in Python."
   ]
  },
  {
   "cell_type": "markdown",
   "metadata": {},
   "source": [
    "### Reading in the Dataset"
   ]
  },
  {
   "cell_type": "code",
   "execution_count": 5,
   "metadata": {},
   "outputs": [
    {
     "data": {
      "text/html": [
       "<div>\n",
       "<style scoped>\n",
       "    .dataframe tbody tr th:only-of-type {\n",
       "        vertical-align: middle;\n",
       "    }\n",
       "\n",
       "    .dataframe tbody tr th {\n",
       "        vertical-align: top;\n",
       "    }\n",
       "\n",
       "    .dataframe thead th {\n",
       "        text-align: right;\n",
       "    }\n",
       "</style>\n",
       "<table border=\"1\" class=\"dataframe\">\n",
       "  <thead>\n",
       "    <tr style=\"text-align: right;\">\n",
       "      <th></th>\n",
       "      <th>species</th>\n",
       "      <th>island</th>\n",
       "      <th>bill_length_mm</th>\n",
       "      <th>bill_depth_mm</th>\n",
       "      <th>flipper_length_mm</th>\n",
       "      <th>body_mass_g</th>\n",
       "      <th>sex</th>\n",
       "    </tr>\n",
       "  </thead>\n",
       "  <tbody>\n",
       "    <tr>\n",
       "      <th>0</th>\n",
       "      <td>Adelie</td>\n",
       "      <td>Torgersen</td>\n",
       "      <td>39.1</td>\n",
       "      <td>18.7</td>\n",
       "      <td>181.0</td>\n",
       "      <td>3750.0</td>\n",
       "      <td>MALE</td>\n",
       "    </tr>\n",
       "    <tr>\n",
       "      <th>1</th>\n",
       "      <td>Adelie</td>\n",
       "      <td>Torgersen</td>\n",
       "      <td>39.5</td>\n",
       "      <td>17.4</td>\n",
       "      <td>186.0</td>\n",
       "      <td>3800.0</td>\n",
       "      <td>FEMALE</td>\n",
       "    </tr>\n",
       "    <tr>\n",
       "      <th>2</th>\n",
       "      <td>Adelie</td>\n",
       "      <td>Torgersen</td>\n",
       "      <td>40.3</td>\n",
       "      <td>18.0</td>\n",
       "      <td>195.0</td>\n",
       "      <td>3250.0</td>\n",
       "      <td>FEMALE</td>\n",
       "    </tr>\n",
       "    <tr>\n",
       "      <th>3</th>\n",
       "      <td>Adelie</td>\n",
       "      <td>Torgersen</td>\n",
       "      <td>NaN</td>\n",
       "      <td>NaN</td>\n",
       "      <td>NaN</td>\n",
       "      <td>NaN</td>\n",
       "      <td>NaN</td>\n",
       "    </tr>\n",
       "    <tr>\n",
       "      <th>4</th>\n",
       "      <td>Adelie</td>\n",
       "      <td>Torgersen</td>\n",
       "      <td>36.7</td>\n",
       "      <td>19.3</td>\n",
       "      <td>193.0</td>\n",
       "      <td>3450.0</td>\n",
       "      <td>FEMALE</td>\n",
       "    </tr>\n",
       "  </tbody>\n",
       "</table>\n",
       "</div>"
      ],
      "text/plain": [
       "  species     island  bill_length_mm  bill_depth_mm  flipper_length_mm  \\\n",
       "0  Adelie  Torgersen            39.1           18.7              181.0   \n",
       "1  Adelie  Torgersen            39.5           17.4              186.0   \n",
       "2  Adelie  Torgersen            40.3           18.0              195.0   \n",
       "3  Adelie  Torgersen             NaN            NaN                NaN   \n",
       "4  Adelie  Torgersen            36.7           19.3              193.0   \n",
       "\n",
       "   body_mass_g     sex  \n",
       "0       3750.0    MALE  \n",
       "1       3800.0  FEMALE  \n",
       "2       3250.0  FEMALE  \n",
       "3          NaN     NaN  \n",
       "4       3450.0  FEMALE  "
      ]
     },
     "execution_count": 5,
     "metadata": {},
     "output_type": "execute_result"
    }
   ],
   "source": [
    "# Reads in the dataset.\n",
    "df = pd.read_csv('https://raw.githubusercontent.com/mwaskom/seaborn-data/master/penguins.csv')\n",
    "df.head()"
   ]
  },
  {
   "cell_type": "code",
   "execution_count": 6,
   "metadata": {},
   "outputs": [
    {
     "name": "stdout",
     "output_type": "stream",
     "text": [
      "<class 'pandas.core.frame.DataFrame'>\n",
      "RangeIndex: 344 entries, 0 to 343\n",
      "Data columns (total 7 columns):\n",
      " #   Column             Non-Null Count  Dtype  \n",
      "---  ------             --------------  -----  \n",
      " 0   species            344 non-null    object \n",
      " 1   island             344 non-null    object \n",
      " 2   bill_length_mm     342 non-null    float64\n",
      " 3   bill_depth_mm      342 non-null    float64\n",
      " 4   flipper_length_mm  342 non-null    float64\n",
      " 5   body_mass_g        342 non-null    float64\n",
      " 6   sex                333 non-null    object \n",
      "dtypes: float64(4), object(3)\n",
      "memory usage: 18.9+ KB\n"
     ]
    }
   ],
   "source": [
    "# Summary of the dataframes basic information.\n",
    "df.info()"
   ]
  },
  {
   "cell_type": "markdown",
   "metadata": {},
   "source": [
    "### Types of Variables\n",
    "The rationale for choosing these variable types and representation is to ensure efficent data handling and modeling in Python. Categorical variables are best represented as categorical data types in pandas for memory efficiency and improved performance, while numeric variables can be represented using native Python data types."
   ]
  },
  {
   "cell_type": "markdown",
   "metadata": {},
   "source": [
    "The dataset consists of 7 columns:\n",
    "- **species**: This variable represents penguin species. It is a catergorical variable with three possible values: \"Chinstrap\", \"Adeile\", and \"Gentroo\". It can be represented as a categorical variable using **'pandas'**.\n",
    "- **island**: This variable indicates the island where the penguins were observed. It is also a categorical variable with three possible values: \"Dream\", \"Torgersen\", and \"Biscoe\" in Antarctica. The **'pandas'** library can be used to represent it as a categorical data type.\n",
    "- **bill_length_mm**: This variable represents the length of the penguins bill in millimeters. It is a numeric variable with continuous values. Pythons native numeric data types (e.g. float) can be used to represent this variable.\n",
    "- **bill_depth_mm**: This variable represents the depth of the penguins bill in millimeters. Like bill length, it is a numeric variable with continuous values and can be represent using Pythons numeric data types. \n",
    "- **flipper_length_mm**: This variable indicates the penguins flipper length in millimeters. It is another numeric variable with continuous values and can be represented using Pythons numeric data types.\n",
    "- **body_mass_g**: This variable represents the penguins body mass in grams. Similar to the other numeric values, it is continuous and can be represented using Pythons numeric data types.\n",
    "- **sex**: This variable indicates the gender of the penguin and it is a categorical variable with two possible values: \"Male\" and \"Female\". It can be represented as a categorical variable using **'pandas'**."
   ]
  },
  {
   "cell_type": "markdown",
   "metadata": {},
   "source": [
    "***\n",
    "## Task 3\n",
    ">  For each of the variables in the penguins data set, suggest what probability distribution from the numpy random distributions list\n",
    "is the most appropriate to model the variable."
   ]
  },
  {
   "cell_type": "markdown",
   "metadata": {},
   "source": [
    "### Categorical Variables\n",
    "Categorical variables such as Species and Island are not modeled with probability distribution directly. Instead of using a probability distribution for these variables, each category could be represented as an integer and use methods suitable for categorical data analysis. To simulate or generate synthetic data for a categorical variable, a discrete uniform distribution can be used to randomly assign integers representing different categories. "
   ]
  },
  {
   "cell_type": "markdown",
   "metadata": {},
   "source": [
    "#### Species"
   ]
  },
  {
   "cell_type": "code",
   "execution_count": 7,
   "metadata": {},
   "outputs": [],
   "source": [
    "# Simulating the categorical data of species.\n",
    "# Define categories and their corresponding integer codes.\n",
    "categories = ['Adelie', 'Chinstrap', 'Gentoo'] \n",
    "category_codes = {category: code for code, category in enumerate(categories)}\n",
    "\n",
    "# Number of samples to generate.\n",
    "num_samples = 344\n",
    "simulated_data = np.random.randint(0, len(categories), size=num_samples)\n",
    "\n",
    "# Map the integer codes back to the original categories.\n",
    "simulated_categories = [categories[code] for code in simulated_data]"
   ]
  },
  {
   "cell_type": "code",
   "execution_count": 8,
   "metadata": {},
   "outputs": [
    {
     "data": {
      "image/png": "[encoded data removed]",
      "text/plain": [
       "<Figure size 640x480 with 1 Axes>"
      ]
     },
     "metadata": {},
     "output_type": "display_data"
    }
   ],
   "source": [
    "# Plot the distribution.\n",
    "plt.hist(simulated_categories, bins=len(categories), rwidth=0.8, color='red')\n",
    "plt.xlabel('Categories')\n",
    "plt.ylabel('Count')\n",
    "plt.title('Simulated Categorical Data Distribution for Species')\n",
    "plt.show()"
   ]
  },
  {
   "cell_type": "markdown",
   "metadata": {},
   "source": [
    "#### Islands"
   ]
  },
  {
   "cell_type": "code",
   "execution_count": 9,
   "metadata": {},
   "outputs": [],
   "source": [
    "# Simulating the categorical data of Islands.\n",
    "# Define categories and their corresponding integer codes.\n",
    "categories = ['Torgersen', 'Biscoe Island', 'Dream'] \n",
    "category_codes = {category: code for code, category in enumerate(categories)}\n",
    "\n",
    "# Number of samples to generate.\n",
    "num_samples = 344\n",
    "simulated_data = np.random.randint(0, len(categories), size=num_samples)\n",
    "\n",
    "# Map the integer codes back to the original categories.\n",
    "simulated_categories = [categories[code] for code in simulated_data]"
   ]
  },
  {
   "cell_type": "code",
   "execution_count": 10,
   "metadata": {},
   "outputs": [
    {
     "data": {
      "image/png": "[encoded data removed]",
      "text/plain": [
       "<Figure size 640x480 with 1 Axes>"
      ]
     },
     "metadata": {},
     "output_type": "display_data"
    }
   ],
   "source": [
    "# Plot the distribution.\n",
    "plt.hist(simulated_categories, bins=len(categories), rwidth=0.8, color='red')\n",
    "plt.xlabel('Categories')\n",
    "plt.ylabel('Count')\n",
    "plt.title('Simulated Categorical Data Distribution for Islands')\n",
    "plt.show()"
   ]
  },
  {
   "cell_type": "markdown",
   "metadata": {},
   "source": [
    "### Numeric Variables \n",
    "Bill Length, Bill Depth, Flipper Length and Body Mass should all follow a normal distribution as mass and lengths generally follow a bell-shaped curve. When considering numeric variables across different species, it's important to acknowledge the potential impact of species differences on the distribution of these variables. The choice of a normal distribution for simulation purposes assumes that the data is roughly bell-shaped and symmetric, which may be a reasonable assumption within individual species but might not accurately capture the overall distribution across all species. Different penguin species may have distinct characteristics, including size variations. For example, one species might be generally larger than another."
   ]
  },
  {
   "cell_type": "code",
   "execution_count": null,
   "metadata": {},
   "outputs": [],
   "source": []
  },
  {
   "cell_type": "code",
   "execution_count": 11,
   "metadata": {},
   "outputs": [
    {
     "ename": "NameError",
     "evalue": "name 'columns' is not defined",
     "output_type": "error",
     "traceback": [
      "\u001b[1;31m---------------------------------------------------------------------------\u001b[0m",
      "\u001b[1;31mNameError\u001b[0m                                 Traceback (most recent call last)",
      "\u001b[1;32mc:\\Users\\clare\\OneDrive\\Data Analytics\\fda\\fundamentals-data-analysis-project\\tasks.ipynb Cell 24\u001b[0m line \u001b[0;36m5\n\u001b[0;32m      <a href='vscode-notebook-cell:/c%3A/Users/clare/OneDrive/Data%20Analytics/fda/fundamentals-data-analysis-project/tasks.ipynb#X33sZmlsZQ%3D%3D?line=0'>1</a>\u001b[0m \u001b[39m# Create subplots for each numerical variable.\u001b[39;00m\n\u001b[0;32m      <a href='vscode-notebook-cell:/c%3A/Users/clare/OneDrive/Data%20Analytics/fda/fundamentals-data-analysis-project/tasks.ipynb#X33sZmlsZQ%3D%3D?line=1'>2</a>\u001b[0m \u001b[39m# Creates a 2 x 2 grid.\u001b[39;00m\n\u001b[0;32m      <a href='vscode-notebook-cell:/c%3A/Users/clare/OneDrive/Data%20Analytics/fda/fundamentals-data-analysis-project/tasks.ipynb#X33sZmlsZQ%3D%3D?line=2'>3</a>\u001b[0m fig, axes \u001b[39m=\u001b[39m plt\u001b[39m.\u001b[39msubplots(\u001b[39m2\u001b[39m, \u001b[39m2\u001b[39m, figsize\u001b[39m=\u001b[39m(\u001b[39m12\u001b[39m, \u001b[39m8\u001b[39m))\n\u001b[1;32m----> <a href='vscode-notebook-cell:/c%3A/Users/clare/OneDrive/Data%20Analytics/fda/fundamentals-data-analysis-project/tasks.ipynb#X33sZmlsZQ%3D%3D?line=4'>5</a>\u001b[0m \u001b[39mfor\u001b[39;00m i, col \u001b[39min\u001b[39;00m \u001b[39menumerate\u001b[39m(columns):\n\u001b[0;32m      <a href='vscode-notebook-cell:/c%3A/Users/clare/OneDrive/Data%20Analytics/fda/fundamentals-data-analysis-project/tasks.ipynb#X33sZmlsZQ%3D%3D?line=5'>6</a>\u001b[0m     row, col_index \u001b[39m=\u001b[39m \u001b[39mdivmod\u001b[39m(i, \u001b[39m2\u001b[39m)\n\u001b[0;32m      <a href='vscode-notebook-cell:/c%3A/Users/clare/OneDrive/Data%20Analytics/fda/fundamentals-data-analysis-project/tasks.ipynb#X33sZmlsZQ%3D%3D?line=6'>7</a>\u001b[0m     sns\u001b[39m.\u001b[39mhistplot(data \u001b[39m=\u001b[39m df, x \u001b[39m=\u001b[39m col, kde \u001b[39m=\u001b[39m \u001b[39mTrue\u001b[39;00m, ax \u001b[39m=\u001b[39m axes[row, col_index])\n",
      "\u001b[1;31mNameError\u001b[0m: name 'columns' is not defined"
     ]
    },
    {
     "data": {
      "image/png": "[encoded data removed]",
      "text/plain": [
       "<Figure size 1200x800 with 4 Axes>"
      ]
     },
     "metadata": {},
     "output_type": "display_data"
    }
   ],
   "source": [
    "# Create subplots for each numerical variable.\n",
    "# Creates a 2 x 2 grid.\n",
    "fig, axes = plt.subplots(2, 2, figsize=(12, 8))\n",
    "\n",
    "for i, col in enumerate(columns):\n",
    "    row, col_index = divmod(i, 2)\n",
    "    sns.histplot(data = df, x = col, kde = True, ax = axes[row, col_index])\n",
    "    axes[row, col_index].set_title(col)\n",
    "\n",
    "plt.tight_layout()\n",
    "plt.show()"
   ]
  },
  {
   "cell_type": "markdown",
   "metadata": {},
   "source": [
    "The graphs above show the combined distribution of Bill Length (mm), Bill Depth (mm), Flipper Length (mm) and Body Mass (g) across all three penguin species. However, it is evident that the distributions are not exhibiting the expected normal distribution characteristics. This discrepancy is likely attributed to the fact that different penguin species exhibit distinct sizes, influencing the overall distribution.\n",
    "\n",
    "To address this issue and gain a more accurate representation of the distribution, we can focus on a single species. By isolating the data for a single species, we can better observe the inherent characteristics and variability within that particular group. This approach allows us to explore whether the assumption of a normal distribution holds more consistently within individual species."
   ]
  },
  {
   "cell_type": "code",
   "execution_count": null,
   "metadata": {},
   "outputs": [],
   "source": [
    "# Filter the dataframe to include only the selected species.\n",
    "df_adelie = df[df['species'] == 'Adelie']"
   ]
  },
  {
   "cell_type": "code",
   "execution_count": null,
   "metadata": {},
   "outputs": [],
   "source": [
    "# Create subplots for each numerical variable.\n",
    "# Creates a 2 x 2 grid.\n",
    "fig, axes = plt.subplots(2, 2, figsize=(12, 8))\n",
    "\n",
    "for i, col in enumerate(columns):\n",
    "    row, col_index = divmod(i, 2)\n",
    "    sns.histplot(data = df_adelie, x = col, kde = True, ax = axes[row, col_index])\n",
    "    axes[row, col_index].set_title(col)\n",
    "\n",
    "plt.tight_layout()\n",
    "plt.show()"
   ]
  },
  {
   "cell_type": "markdown",
   "metadata": {},
   "source": [
    "After narrowing our focus to the 'Adelie' species and modifying the analysis accordingly, the distributions of the numerical variables now exhibit patterns more in line with our expectations. Bill length and flipper length being the closest to a normal distribution. "
   ]
  },
  {
   "cell_type": "code",
   "execution_count": null,
   "metadata": {},
   "outputs": [],
   "source": [
    "# Simulate Flipper length for 'Species A'.\n",
    "species_a_data = np.random.normal(loc=1000, scale=100, size=100)"
   ]
  },
  {
   "cell_type": "code",
   "execution_count": null,
   "metadata": {},
   "outputs": [],
   "source": [
    "# Plot histogram for 'Species A'.\n",
    "plt.figure(figsize=(8, 5))\n",
    "plt.hist(species_a_data, bins=10, alpha=0.7, color='red', edgecolor='black')\n",
    "plt.xlabel('Flipper Length (mm)')\n",
    "plt.ylabel('Frequency')\n",
    "plt.title('Simulated Distribution of Body Mass for Species A')\n",
    "plt.show()"
   ]
  },
  {
   "cell_type": "markdown",
   "metadata": {},
   "source": [
    "#### Sex Variable\n",
    "This variable can be considered a binary variable as it only has two possible outcomes (\"Male\" or \"Female\"). When dealing with binary variables, the Bernoulli distribution is often used to model the probability of success for a single binary event."
   ]
  },
  {
   "cell_type": "code",
   "execution_count": null,
   "metadata": {},
   "outputs": [],
   "source": [
    "# Probability Distribution for Sex variable.\n",
    "sns.countplot(data = df, x = 'sex')\n",
    "plt.show()"
   ]
  },
  {
   "cell_type": "code",
   "execution_count": null,
   "metadata": {},
   "outputs": [],
   "source": [
    "# Assume a constant probability of being male.\n",
    "p_male = 0.5"
   ]
  },
  {
   "cell_type": "code",
   "execution_count": null,
   "metadata": {},
   "outputs": [],
   "source": [
    "# Simulate binary outcomes (0 for Female, 1 for Male).\n",
    "num_samples = 344\n",
    "simulated_sex = np.random.binomial(1, p_male, num_samples)"
   ]
  },
  {
   "cell_type": "code",
   "execution_count": null,
   "metadata": {},
   "outputs": [],
   "source": [
    "# Plot the distribution\n",
    "# xticks() - https://www.geeksforgeeks.org/matplotlib-pyplot-xticks-in-python/\n",
    "plt.hist(simulated_sex, bins=[-0.5, 0.5, 1.5], align='mid', rwidth=0.8, color='red')\n",
    "plt.xticks([0, 1], ['Female', 'Male'])\n",
    "plt.xlabel('Sex')\n",
    "plt.ylabel('Count')\n",
    "plt.title('Simulated Sex Distribution')\n",
    "plt.show()"
   ]
  },
  {
   "cell_type": "markdown",
   "metadata": {},
   "source": [
    "***\n",
    "## Task 4\n",
    "> Suppose you are flipping two coins, each with a probability p of\n",
    "giving heads. Plot the entropy of the total number of heads versus\n",
    "p."
   ]
  },
  {
   "cell_type": "markdown",
   "metadata": {},
   "source": [
    "The entropy of a random variable measures the amount of uncertainty associated with that variable. In the case of flipping two coins with a probability $p$ of getting heads for each coin, we can calculate the entropy of the total number of heads.\n",
    "\n",
    "Let's denote the random variable representing the total number of heads as $X$. $X$ can take on values 0, 1, or 2.\n",
    "\n",
    "The entropy $H(X)$ is given by the [formula](https://phys.libretexts.org/Bookshelves/Thermodynamics_and_Statistical_Mechanics/Book:_Thermodynamics_and_Statistical_Mechanics_(Arovas)/01:_Fundamentals_of_Probability/1.03:_Entropy_and_Probability):\n",
    "\n",
    "$H(X) = - \\Sigma _i P(x_i)log_2 P(x_i)$\n",
    "\n",
    "where $P(x_i)$ is the probability of the ith outcome.\n",
    "\n",
    "For two coin flips:\n",
    "- $P(0)$ is the probability of getting 0 heads (both tails).\n",
    "- $P(1)$  is the probability of getting 1 head (either the first or the second coin is heads).\n",
    "- $P(2)$  is the probability of getting 2 heads (both coins are heads).\n",
    "\n",
    "$P(0) = (1 - p)^2$ <br>\n",
    "$P(1) = 2p(1 - p)$ <br>\n",
    "$P(2) = p^2$ <br>\n",
    "\n",
    "Now, $H(X)$ can be calculated for different values of $p$ and plotted. Note that $log_2$ is used to calculate the entropy in bits.\n",
    "\n",
    "When $P(0)$, $P(1)$, or $P(2)$ is zero,  the corresponding term in the entropy calculation becomes $-\\infty$, leading to the divide by zero error and the invalid value error. This can be avoided by adding a small epsilon to the probabilities before taking the logarithm.\n"
   ]
  },
  {
   "cell_type": "code",
   "execution_count": null,
   "metadata": {},
   "outputs": [],
   "source": [
    "# Defining Entropy.\n",
    "def entropy(p):\n",
    "    # Small constant to avoid taking the logarithm of zero\n",
    "    epsilon = 1e-20 \n",
    "    P0 = (1 - p) ** 2\n",
    "    P1 = 2 * p * (1 - p)\n",
    "    P2 = p ** 2\n",
    "\n",
    "    entropy_value = - (P0 * np.log2(P0 + epsilon) + P1 * np.log2(P1 + epsilon) +  P2 * np.log2(P2 + epsilon))\n",
    "    return entropy_value"
   ]
  },
  {
   "cell_type": "code",
   "execution_count": null,
   "metadata": {},
   "outputs": [],
   "source": [
    "# Generate Values of p between 0 and 1.\n",
    "p_values = np.linspace(0, 1, 100)"
   ]
  },
  {
   "cell_type": "code",
   "execution_count": null,
   "metadata": {},
   "outputs": [],
   "source": [
    "# Calculate entropy for each p\n",
    "entropy_values = [entropy(p) for p in p_values]"
   ]
  },
  {
   "cell_type": "code",
   "execution_count": null,
   "metadata": {},
   "outputs": [],
   "source": [
    "# Plot the entropy\n",
    "plt.plot(p_values, entropy_values)\n",
    "plt.title('Entropy of Two Coin Flips')\n",
    "plt.xlabel('Probability of Heads(p)')\n",
    "plt.ylabel('Entropy (bits)')\n",
    "plt.show()"
   ]
  },
  {
   "cell_type": "markdown",
   "metadata": {},
   "source": [
    "### Notes\n",
    "- The entropy plot illustrates the relationship between the probability $p$ of getting heads in a single coin flip and the entropy of the total number of heads in two coin flips. \n",
    "- The plot shows that entropy is minimized when $p$ is either 0 or 1. This aligns with the assumption when $p$ is 0 or 1, the outcomes are completely certain (either both tails or both heads). \n",
    "- There is a clear maximum entropy point around $p = 0.5$. This is expected, as a balanced probability of heads and tails results in maximum uncertainty about the outcomes.\n",
    "- Compared to a uniform distribution, where each outcome is equally likely, the entropy plot showcases how the uncertainty changes when the probabilities are biased toward heads or tails."
   ]
  },
  {
   "cell_type": "markdown",
   "metadata": {},
   "source": [
    "***\n",
    "## Task 5\n",
    "> Create an appropriate individual plot for each of the variables in\n",
    "the penguin data set.\n"
   ]
  },
  {
   "cell_type": "markdown",
   "metadata": {},
   "source": [
    "### Species"
   ]
  },
  {
   "cell_type": "code",
   "execution_count": null,
   "metadata": {},
   "outputs": [],
   "source": [
    "# Determining the samples per Species.\n",
    "df['species'].value_counts()"
   ]
  },
  {
   "cell_type": "code",
   "execution_count": null,
   "metadata": {},
   "outputs": [],
   "source": [
    "# Probability Distribution for Species variable.\n",
    "sns.countplot(data = df, x = 'species')\n",
    "plt.show()"
   ]
  },
  {
   "cell_type": "markdown",
   "metadata": {},
   "source": [
    "### Island"
   ]
  },
  {
   "cell_type": "code",
   "execution_count": null,
   "metadata": {},
   "outputs": [],
   "source": [
    "# Determining the samples per Island.\n",
    "df['island'].value_counts()"
   ]
  },
  {
   "cell_type": "code",
   "execution_count": null,
   "metadata": {},
   "outputs": [],
   "source": [
    "# Probability Distribution for Island variable.\n",
    "sns.countplot(data = df, x = 'island')\n",
    "plt.show()"
   ]
  },
  {
   "cell_type": "markdown",
   "metadata": {},
   "source": []
  },
  {
   "cell_type": "code",
   "execution_count": null,
   "metadata": {},
   "outputs": [],
   "source": [
    "# Probability Distribution for numerical variables.\n",
    "# Select numerical columns.\n",
    "columns = ['bill_length_mm', 'bill_depth_mm', 'flipper_length_mm', 'body_mass_g']"
   ]
  },
  {
   "cell_type": "code",
   "execution_count": null,
   "metadata": {},
   "outputs": [],
   "source": []
  },
  {
   "cell_type": "code",
   "execution_count": null,
   "metadata": {},
   "outputs": [],
   "source": []
  },
  {
   "cell_type": "code",
   "execution_count": null,
   "metadata": {},
   "outputs": [],
   "source": []
  },
  {
   "attachments": {},
   "cell_type": "markdown",
   "metadata": {},
   "source": [
    "***\n",
    "## End"
   ]
  }
 ],
 "metadata": {
  "kernelspec": {
   "display_name": "base",
   "language": "python",
   "name": "python3"
  },
  "language_info": {
   "codemirror_mode": {
    "name": "ipython",
    "version": 3
   },
   "file_extension": ".py",
   "mimetype": "text/x-python",
   "name": "python",
   "nbconvert_exporter": "python",
   "pygments_lexer": "ipython3",
   "version": "3.10.13"
  },
  "orig_nbformat": 4
 },
 "nbformat": 4,
 "nbformat_minor": 2
}
