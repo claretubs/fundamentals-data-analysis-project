{
 "cells": [
  {
   "attachments": {},
   "cell_type": "markdown",
   "metadata": {},
   "source": [
    "# Fundamentals of Data Analysis Project\n",
    "**by Clare Tubridy**\n",
    "***"
   ]
  },
  {
   "cell_type": "markdown",
   "metadata": {},
   "source": [
    "## Introduction\n",
    "### Background\n",
    "Fisher's Iris data set is a well-known and widely used data set in the field of machine learning and statistics. It is a valuable resource for researchers in this field. Its simplicity and small size make it an ideal starting point for exploring classification algorithms and statistical techniques.\n",
    "\n",
    "### Project Outline\n",
    "The goal of the project is to conduct a comprehensive analysis on the Iris Flower dataset. Each variable within the dataset will be systematically classified in this notebook. For numerical variables, appropriate summary statistics such as mean, median, and standard deviation will be calculated. Categorical variables will be summarized using counts and percentages. Suitable plots for visual representation of these variables must be choosem. Some of these plots include histograms, box plots, and scatter plots. The project aims to provide a well-documented and insightful examination of the dataset, highlighting key patterns and characteristics.\n",
    "***"
   ]
  },
  {
   "cell_type": "markdown",
   "metadata": {},
   "source": [
    "## Data Exploration\n",
    "### Overview of Dataset"
   ]
  },
  {
   "cell_type": "code",
   "execution_count": 1,
   "metadata": {},
   "outputs": [],
   "source": [
    "# Imports for the project\n",
    "import pandas as pd\n",
    "import matplotlib.pyplot as plt\n",
    "import seaborn as sns"
   ]
  },
  {
   "cell_type": "code",
   "execution_count": 2,
   "metadata": {},
   "outputs": [
    {
     "data": {
      "text/html": [
       "<div>\n",
       "<style scoped>\n",
       "    .dataframe tbody tr th:only-of-type {\n",
       "        vertical-align: middle;\n",
       "    }\n",
       "\n",
       "    .dataframe tbody tr th {\n",
       "        vertical-align: top;\n",
       "    }\n",
       "\n",
       "    .dataframe thead th {\n",
       "        text-align: right;\n",
       "    }\n",
       "</style>\n",
       "<table border=\"1\" class=\"dataframe\">\n",
       "  <thead>\n",
       "    <tr style=\"text-align: right;\">\n",
       "      <th></th>\n",
       "      <th>sepal.length</th>\n",
       "      <th>sepal.width</th>\n",
       "      <th>petal.length</th>\n",
       "      <th>petal.width</th>\n",
       "      <th>variety</th>\n",
       "    </tr>\n",
       "  </thead>\n",
       "  <tbody>\n",
       "    <tr>\n",
       "      <th>0</th>\n",
       "      <td>5.1</td>\n",
       "      <td>3.5</td>\n",
       "      <td>1.4</td>\n",
       "      <td>0.2</td>\n",
       "      <td>Setosa</td>\n",
       "    </tr>\n",
       "    <tr>\n",
       "      <th>1</th>\n",
       "      <td>4.9</td>\n",
       "      <td>3.0</td>\n",
       "      <td>1.4</td>\n",
       "      <td>0.2</td>\n",
       "      <td>Setosa</td>\n",
       "    </tr>\n",
       "    <tr>\n",
       "      <th>2</th>\n",
       "      <td>4.7</td>\n",
       "      <td>3.2</td>\n",
       "      <td>1.3</td>\n",
       "      <td>0.2</td>\n",
       "      <td>Setosa</td>\n",
       "    </tr>\n",
       "    <tr>\n",
       "      <th>3</th>\n",
       "      <td>4.6</td>\n",
       "      <td>3.1</td>\n",
       "      <td>1.5</td>\n",
       "      <td>0.2</td>\n",
       "      <td>Setosa</td>\n",
       "    </tr>\n",
       "    <tr>\n",
       "      <th>4</th>\n",
       "      <td>5.0</td>\n",
       "      <td>3.6</td>\n",
       "      <td>1.4</td>\n",
       "      <td>0.2</td>\n",
       "      <td>Setosa</td>\n",
       "    </tr>\n",
       "  </tbody>\n",
       "</table>\n",
       "</div>"
      ],
      "text/plain": [
       "   sepal.length  sepal.width  petal.length  petal.width variety\n",
       "0           5.1          3.5           1.4          0.2  Setosa\n",
       "1           4.9          3.0           1.4          0.2  Setosa\n",
       "2           4.7          3.2           1.3          0.2  Setosa\n",
       "3           4.6          3.1           1.5          0.2  Setosa\n",
       "4           5.0          3.6           1.4          0.2  Setosa"
      ]
     },
     "execution_count": 2,
     "metadata": {},
     "output_type": "execute_result"
    }
   ],
   "source": [
    "# Loads the Iris dataset from a CSV file\n",
    "# Dataset got from GitHub\n",
    "iris_data = pd.read_csv('https://gist.githubusercontent.com/netj/8836201/raw/6f9306ad21398ea43cba4f7d537619d0e07d5ae3/iris.csv')\n",
    "iris_data.head()"
   ]
  },
  {
   "cell_type": "code",
   "execution_count": 3,
   "metadata": {},
   "outputs": [
    {
     "name": "stdout",
     "output_type": "stream",
     "text": [
      "<class 'pandas.core.frame.DataFrame'>\n",
      "RangeIndex: 150 entries, 0 to 149\n",
      "Data columns (total 5 columns):\n",
      " #   Column        Non-Null Count  Dtype  \n",
      "---  ------        --------------  -----  \n",
      " 0   sepal.length  150 non-null    float64\n",
      " 1   sepal.width   150 non-null    float64\n",
      " 2   petal.length  150 non-null    float64\n",
      " 3   petal.width   150 non-null    float64\n",
      " 4   variety       150 non-null    object \n",
      "dtypes: float64(4), object(1)\n",
      "memory usage: 6.0+ KB\n"
     ]
    }
   ],
   "source": [
    "# Summary of the dataframes basic information\n",
    "iris_data.info()"
   ]
  },
  {
   "cell_type": "code",
   "execution_count": 4,
   "metadata": {},
   "outputs": [
    {
     "data": {
      "text/html": [
       "<div>\n",
       "<style scoped>\n",
       "    .dataframe tbody tr th:only-of-type {\n",
       "        vertical-align: middle;\n",
       "    }\n",
       "\n",
       "    .dataframe tbody tr th {\n",
       "        vertical-align: top;\n",
       "    }\n",
       "\n",
       "    .dataframe thead th {\n",
       "        text-align: right;\n",
       "    }\n",
       "</style>\n",
       "<table border=\"1\" class=\"dataframe\">\n",
       "  <thead>\n",
       "    <tr style=\"text-align: right;\">\n",
       "      <th></th>\n",
       "      <th>sepal.length</th>\n",
       "      <th>sepal.width</th>\n",
       "      <th>petal.length</th>\n",
       "      <th>petal.width</th>\n",
       "    </tr>\n",
       "  </thead>\n",
       "  <tbody>\n",
       "    <tr>\n",
       "      <th>count</th>\n",
       "      <td>150.000000</td>\n",
       "      <td>150.000000</td>\n",
       "      <td>150.000000</td>\n",
       "      <td>150.000000</td>\n",
       "    </tr>\n",
       "    <tr>\n",
       "      <th>mean</th>\n",
       "      <td>5.843333</td>\n",
       "      <td>3.057333</td>\n",
       "      <td>3.758000</td>\n",
       "      <td>1.199333</td>\n",
       "    </tr>\n",
       "    <tr>\n",
       "      <th>std</th>\n",
       "      <td>0.828066</td>\n",
       "      <td>0.435866</td>\n",
       "      <td>1.765298</td>\n",
       "      <td>0.762238</td>\n",
       "    </tr>\n",
       "    <tr>\n",
       "      <th>min</th>\n",
       "      <td>4.300000</td>\n",
       "      <td>2.000000</td>\n",
       "      <td>1.000000</td>\n",
       "      <td>0.100000</td>\n",
       "    </tr>\n",
       "    <tr>\n",
       "      <th>25%</th>\n",
       "      <td>5.100000</td>\n",
       "      <td>2.800000</td>\n",
       "      <td>1.600000</td>\n",
       "      <td>0.300000</td>\n",
       "    </tr>\n",
       "    <tr>\n",
       "      <th>50%</th>\n",
       "      <td>5.800000</td>\n",
       "      <td>3.000000</td>\n",
       "      <td>4.350000</td>\n",
       "      <td>1.300000</td>\n",
       "    </tr>\n",
       "    <tr>\n",
       "      <th>75%</th>\n",
       "      <td>6.400000</td>\n",
       "      <td>3.300000</td>\n",
       "      <td>5.100000</td>\n",
       "      <td>1.800000</td>\n",
       "    </tr>\n",
       "    <tr>\n",
       "      <th>max</th>\n",
       "      <td>7.900000</td>\n",
       "      <td>4.400000</td>\n",
       "      <td>6.900000</td>\n",
       "      <td>2.500000</td>\n",
       "    </tr>\n",
       "  </tbody>\n",
       "</table>\n",
       "</div>"
      ],
      "text/plain": [
       "       sepal.length  sepal.width  petal.length  petal.width\n",
       "count    150.000000   150.000000    150.000000   150.000000\n",
       "mean       5.843333     3.057333      3.758000     1.199333\n",
       "std        0.828066     0.435866      1.765298     0.762238\n",
       "min        4.300000     2.000000      1.000000     0.100000\n",
       "25%        5.100000     2.800000      1.600000     0.300000\n",
       "50%        5.800000     3.000000      4.350000     1.300000\n",
       "75%        6.400000     3.300000      5.100000     1.800000\n",
       "max        7.900000     4.400000      6.900000     2.500000"
      ]
     },
     "execution_count": 4,
     "metadata": {},
     "output_type": "execute_result"
    }
   ],
   "source": [
    "# Summary of each variable\n",
    "iris_data.describe()"
   ]
  },
  {
   "cell_type": "markdown",
   "metadata": {},
   "source": [
    "### Variables Present in Dataset\n",
    "The data set consists of 50 samples from each of three species of Iris flowers (Iris Setosa, Iris Virginicia, and Irish Versicolor). Each sample has four numerical features which characterise different aspects of iris flowers. These features are crucial for understanding the subtle differences between various species within the dataset. These features are as follows:\n",
    "\n",
    "1. **Sepal Length:**\n",
    "- This is a numerical value that represents the length of the iris flowers sepal. The sepal is the outermost hoop of the flower. The sepal length is measured in centimeters.\n",
    "\n",
    "2. **Sepal Width:**\n",
    "- This is another numerical value which measures the width of the sepal. This too is measure in centimeters. \n",
    "\n",
    "3. **Petal Length:**\n",
    "- The petal is the inner hoop of the flower. Petal length is measured in centimeters and gives an insight into the flowers overall size.\n",
    "\n",
    "3. **Petal Width:**\n",
    "- The petal width is similar to all the variables mentioned above as it is a numerical variable measured in centimeters.\n",
    "\n",
    "4. **Variety:**\n",
    "- Variety represents the species of the iris flowers. The three species are *Setosa*, *Versicolor*, and *Virginica*.\n",
    "\n",
    "    ![Iris Flower](https://aigraduate.com/content/images/downloaded_images/Decision-Tree-Visualisation---Quick-ML-Tutorial-for-Beginners/1-jmz-I1DBBl8A52vkWUMgxg.png)\n",
    "\n",
    "***"
   ]
  },
  {
   "cell_type": "markdown",
   "metadata": {},
   "source": [
    "## Variable Classification\n",
    "The rationale for choosing variable types and representation is to ensure efficent data handling and modeling in Python. Categorical variables are best represented as categorical data types in pandas for memory efficiency and improved performance, while numeric variables can be represented using native Python data types.\n",
    "\n",
    "1. **Sepal Length & Sepal Width:**\n",
    "- Type: Numerical\n",
    "- Scale: Ratio\n",
    "- Reasoning: These are numerical variables. They represent measurable quantities with meaningful zero points (absence of sepal). The scale is [ratios](https://www.voiceform.com/blog-posts/ratio-scale#:~:text=Ratio%20scales%20allow%20you%20to%20categorize%20and%20rank,can%20all%20be%20measured%20on%20a%20ratio%20scale.) as they have true zero points, have no negative values, and the ratios between values are meaningful. For example, if one observation has a value twice as large as another, then it means the quantity being measured is also twice as large.\n",
    "\n",
    "2. **Petal Length & Petal Width:**\n",
    "- Type: Numerical\n",
    "- Scale: Ratio\n",
    "- Reasoning: Similar to sepal length and width above, these variables are also numerical with a ratio scale. It involves measurements with a true zero point, and ratios between values are meaningful.\n",
    "\n",
    "3. **Variety:**\n",
    "- Type: Categorical\n",
    "- Scale: Nominal\n",
    "- Reasoning: The variety of species column is a cateforical variable. It represents different classes or categories of iris flowers. There is no inherent order or ranking among the species. Therefore, the scale is [nominal](https://statisticsbyjim.com/basics/nominal-ordinal-interval-ratio-scales/#:~:text=A%20nominal%20scale%20simply%20names%20categories%20that%20values,number%20of%20distinct%20groups%20based%20on%20a%20characteristic.).\n",
    "\n",
    "***"
   ]
  },
  {
   "cell_type": "markdown",
   "metadata": {},
   "source": [
    "## Summary Statistics\n",
    "### Numerical Variables\n",
    "The appropriate summary statistics for the numerical variables are as follows: mean, median, mode, ranges, and standard deviation. The mean is calculated by adding all up all values and dividing by the number of values. Otherwise known as average. The median is the middle value when the data is sorted. It is less sensitive to outliers than the mean. The mode is the value that appears most frequently in the dataset. The range is the difference between the maximum and minimum values. Finally, the standard deviation measures the amount of variation or dispersion of a set of values. "
   ]
  },
  {
   "cell_type": "code",
   "execution_count": 5,
   "metadata": {},
   "outputs": [],
   "source": [
    "# Calculate mean, median, mode, range and standard diviation.\n",
    "# https://pandas.pydata.org/pandas-docs/version/0.19/generated/pandas.DataFrame.mode.html\n",
    "relevant_columns = [\"sepal.length\", \"sepal.width\", \"petal.length\", \"petal.width\"]\n",
    "\n",
    "mean = iris_data[relevant_columns].mean()\n",
    "median = iris_data[relevant_columns].median()\n",
    "mode = iris_data[relevant_columns].mode().iloc[0]       # Extract the first mode if there are multiple\n",
    "ranges = iris_data[relevant_columns].max() - iris_data[relevant_columns].min()\n",
    "std_devs = iris_data[relevant_columns].std()"
   ]
  },
  {
   "cell_type": "code",
   "execution_count": 6,
   "metadata": {},
   "outputs": [
    {
     "name": "stdout",
     "output_type": "stream",
     "text": [
      "                  Mean  Median  Mode  Range  Standard Deviation\n",
      "sepal.length  5.843333    5.80   5.0    3.6            0.828066\n",
      "sepal.width   3.057333    3.00   3.0    2.4            0.435866\n",
      "petal.length  3.758000    4.35   1.4    5.9            1.765298\n",
      "petal.width   1.199333    1.30   0.2    2.4            0.762238\n"
     ]
    }
   ],
   "source": [
    "# Create a summary dataframe.\n",
    "descriptive_stats = pd.DataFrame({\n",
    "    \"Mean\": mean,\n",
    "    \"Median\":median,\n",
    "    \"Mode\": mode,\n",
    "    \"Range\": ranges,\n",
    "    \"Standard Deviation\": std_devs\n",
    "})\n",
    "\n",
    "# Display the descriptive statistics.\n",
    "print(descriptive_stats)"
   ]
  },
  {
   "cell_type": "markdown",
   "metadata": {},
   "source": [
    "The descriptive statitics above reveal the differnces between the petal and sepal measurements in the Iris Flower dataset. The biggest difference between the two is that the petal length and width exhibit a higher degree of variability, as evidenced by their larger standard deviations and wider ranges compared to the sepal length and width. The sepal length and width distributions seem to be symmetrically shaped as the mean and median values are approximately the same. In contrast, the petal length distributon is right-skewed. This is evident as the median value is greater than the mean value. This indicates the presence of longer petals which might be a characteristic of certain species. These findings underscore the dsitnct characteritics of petals and sepals. "
   ]
  },
  {
   "cell_type": "markdown",
   "metadata": {},
   "source": [
    "### Categorical Variable\n",
    "The appropriate summary statitics for the categorical varibales present in this dataset are count and percentage. This will allow us to see if the data is split evenly amoungst the different species in the variety column."
   ]
  },
  {
   "cell_type": "code",
   "execution_count": 7,
   "metadata": {},
   "outputs": [
    {
     "name": "stdout",
     "output_type": "stream",
     "text": [
      "The Count of each species is:\n",
      "variety\n",
      "Setosa        50\n",
      "Versicolor    50\n",
      "Virginica     50\n",
      "Name: count, dtype: int64\n",
      "------------------------------------\n",
      "The percentage of each species is:\n",
      "variety\n",
      "Setosa        33.333333\n",
      "Versicolor    33.333333\n",
      "Virginica     33.333333\n",
      "Name: proportion, dtype: float64\n"
     ]
    }
   ],
   "source": [
    "category_counts = iris_data['variety'].value_counts()\n",
    "category_percentages = iris_data['variety'].value_counts(normalize=True) * 100\n",
    "\n",
    "print(\"The Count of each species is:\")\n",
    "print(category_counts)\n",
    "print(\"---\" * 12)\n",
    "print(\"The percentage of each species is:\")\n",
    "print(category_percentages)"
   ]
  },
  {
   "cell_type": "markdown",
   "metadata": {},
   "source": [
    "### Descriptive Statistics of Each Species\n",
    "It is beneficial to explore the descriptive statitics for each iris species individually, to gain a deeper understanding of the morphological differences. By analyzing *Setosa*, *Versicolor*, and *Virginica* seperately, it can reveal specific patterns and variations. Hence, we can discern whether certain traits are more characteristic of a particular iris species. This will allow us to distinguish between one species from another. "
   ]
  },
  {
   "cell_type": "code",
   "execution_count": 8,
   "metadata": {},
   "outputs": [],
   "source": [
    "# Seperating data into the different species. \n",
    "grouped_data = iris_data.groupby('variety')"
   ]
  },
  {
   "cell_type": "code",
   "execution_count": 9,
   "metadata": {},
   "outputs": [],
   "source": [
    "# Calculate mean, median, mode, range and standard diviation for each species.\n",
    "# https://pandas.pydata.org/pandas-docs/stable/reference/api/pandas.DataFrame.apply.html\n",
    "mean_species = grouped_data[relevant_columns].mean()\n",
    "median_species = grouped_data[relevant_columns].median()\n",
    "mode_species = grouped_data[relevant_columns].apply(lambda x: x.mode().iloc[0])\n",
    "ranges_species = grouped_data[relevant_columns].max() - grouped_data[relevant_columns].min()\n",
    "std_devs_species = grouped_data[relevant_columns].std()"
   ]
  },
  {
   "cell_type": "code",
   "execution_count": 10,
   "metadata": {},
   "outputs": [],
   "source": [
    "# Create separate summary DataFrames for each statistic.\n",
    "summary_mean = pd.DataFrame(mean_species)\n",
    "summary_median = pd.DataFrame(median_species)\n",
    "summary_mode = pd.DataFrame(mode_species)\n",
    "summary_range = pd.DataFrame(ranges_species)\n",
    "summary_std_dev = pd.DataFrame(std_devs_species)"
   ]
  },
  {
   "cell_type": "code",
   "execution_count": 11,
   "metadata": {},
   "outputs": [
    {
     "name": "stdout",
     "output_type": "stream",
     "text": [
      "Mean for Each Species:\n",
      "            sepal.length  sepal.width  petal.length  petal.width\n",
      "variety                                                         \n",
      "Setosa             5.006        3.428         1.462        0.246\n",
      "Versicolor         5.936        2.770         4.260        1.326\n",
      "Virginica          6.588        2.974         5.552        2.026\n"
     ]
    }
   ],
   "source": [
    "print(\"Mean for Each Species:\")\n",
    "print(summary_mean)"
   ]
  },
  {
   "cell_type": "code",
   "execution_count": 12,
   "metadata": {},
   "outputs": [
    {
     "name": "stdout",
     "output_type": "stream",
     "text": [
      "Median for Each Species:\n",
      "            sepal.length  sepal.width  petal.length  petal.width\n",
      "variety                                                         \n",
      "Setosa               5.0          3.4          1.50          0.2\n",
      "Versicolor           5.9          2.8          4.35          1.3\n",
      "Virginica            6.5          3.0          5.55          2.0\n"
     ]
    }
   ],
   "source": [
    "print(\"Median for Each Species:\")\n",
    "print(summary_median)"
   ]
  },
  {
   "cell_type": "code",
   "execution_count": 13,
   "metadata": {},
   "outputs": [
    {
     "name": "stdout",
     "output_type": "stream",
     "text": [
      "Mode for Each Species:\n",
      "0           sepal.length  sepal.width  petal.length  petal.width\n",
      "variety                                                         \n",
      "Setosa               5.0          3.4           1.4          0.2\n",
      "Versicolor           5.5          3.0           4.5          1.3\n",
      "Virginica            6.3          3.0           5.1          1.8\n"
     ]
    }
   ],
   "source": [
    "print(\"Mode for Each Species:\")\n",
    "print(summary_mode)"
   ]
  },
  {
   "cell_type": "code",
   "execution_count": 14,
   "metadata": {},
   "outputs": [
    {
     "name": "stdout",
     "output_type": "stream",
     "text": [
      "Range for Each Species:\n",
      "            sepal.length  sepal.width  petal.length  petal.width\n",
      "variety                                                         \n",
      "Setosa               1.5          2.1           0.9          0.5\n",
      "Versicolor           2.1          1.4           2.1          0.8\n",
      "Virginica            3.0          1.6           2.4          1.1\n"
     ]
    }
   ],
   "source": [
    "print(\"Range for Each Species:\")\n",
    "print(summary_range)"
   ]
  },
  {
   "cell_type": "code",
   "execution_count": 15,
   "metadata": {},
   "outputs": [
    {
     "name": "stdout",
     "output_type": "stream",
     "text": [
      "Standard Deviation for Each Species:\n",
      "            sepal.length  sepal.width  petal.length  petal.width\n",
      "variety                                                         \n",
      "Setosa          0.352490     0.379064      0.173664     0.105386\n",
      "Versicolor      0.516171     0.313798      0.469911     0.197753\n",
      "Virginica       0.635880     0.322497      0.551895     0.274650\n"
     ]
    }
   ],
   "source": [
    "print(\"Standard Deviation for Each Species:\")\n",
    "print(summary_std_dev)"
   ]
  },
  {
   "cell_type": "markdown",
   "metadata": {},
   "source": [
    "There are clear differences between *Setosa*, *Versicolor*, and *Virginica* iris species when looking at the numbers above. *Setosa* species tends to have smaller flower features overall, while *Virginica* has larger ones. *Versicolor* falls inbetween the two others. Measurements such as mean, median, and mode make these distinctions very evidnet. The range values illustrate the spread or variability within each species. *Setosa* displays the smallest ranges, indicating a more homogenous group, while *Virginica*, with its larger ranges, exhibits greater variability. These findings are complemented by the standard deviation values, which quantify the dispersion of data points from the mean. \n",
    "\n",
    "***"
   ]
  },
  {
   "cell_type": "markdown",
   "metadata": {},
   "source": [
    "## Data Visualization\n",
    "### Distribution of Variables"
   ]
  },
  {
   "cell_type": "code",
   "execution_count": 23,
   "metadata": {},
   "outputs": [
    {
     "data": {
      "image/png": "[encoded data removed]",
      "text/plain": [
       "<Figure size 640x480 with 1 Axes>"
      ]
     },
     "metadata": {},
     "output_type": "display_data"
    }
   ],
   "source": [
    "# Histogram of Sepal Lengths.\n",
    "# https://matplotlib.org/stable/users/explain/colors/colors.html\n",
    "plt.hist(iris_data[\"sepal.length\"], bins=20, color=\"#C79FEF\", edgecolor=\"black\")\n",
    "plt.title(\"Distribution of Sepal Length\")\n",
    "plt.xlabel(\"Sepal Length (cm)\")\n",
    "plt.ylabel(\"Frequency\")\n",
    "plt.show()"
   ]
  },
  {
   "cell_type": "markdown",
   "metadata": {},
   "source": [
    "## Conclusion"
   ]
  },
  {
   "attachments": {},
   "cell_type": "markdown",
   "metadata": {},
   "source": [
    "***\n",
    "## End"
   ]
  }
 ],
 "metadata": {
  "kernelspec": {
   "display_name": "base",
   "language": "python",
   "name": "python3"
  },
  "language_info": {
   "codemirror_mode": {
    "name": "ipython",
    "version": 3
   },
   "file_extension": ".py",
   "mimetype": "text/x-python",
   "name": "python",
   "nbconvert_exporter": "python",
   "pygments_lexer": "ipython3",
   "version": "3.10.13"
  },
  "orig_nbformat": 4
 },
 "nbformat": 4,
 "nbformat_minor": 2
}
